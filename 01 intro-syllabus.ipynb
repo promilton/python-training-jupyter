{
 "cells": [
  {
   "cell_type": "markdown",
   "id": "27022b07-920d-4097-b46d-468753525ec8",
   "metadata": {},
   "source": [
    "                                                    # EduProLearningHub\n",
    "                                                                                                   \n",
    "This course covers from the fundamentals of Python. **Teaches Good practices, Develops logical thinking, Builds confident.**\n",
    "No matter whether you're a beginner or having any programming experience you are at the right place.\n",
    "Along with your dedication and interest, We're here to prepare you to proficient in Python."
   ]
  },
  {
   "cell_type": "markdown",
   "id": "99e29083-db63-4788-a1d0-38f8dcad8853",
   "metadata": {},
   "source": [
    "About author:\n",
    "-------------\n",
    "**Profile:** https://www.linkedin.com/in/milton-savarimuthu/\n",
    "**Experience:** 10 years of experience in development of automation frameworks and tools\n",
    "**GitHub:** https://github.com/promilton/\n",
    "**Website:** https://www.eduprolearninghub.com/python.html"
   ]
  }
 ],
 "metadata": {
  "kernelspec": {
   "display_name": "Python 3 (ipykernel)",
   "language": "python",
   "name": "python3"
  },
  "language_info": {
   "codemirror_mode": {
    "name": "ipython",
    "version": 3
   },
   "file_extension": ".py",
   "mimetype": "text/x-python",
   "name": "python",
   "nbconvert_exporter": "python",
   "pygments_lexer": "ipython3",
   "version": "3.12.0"
  }
 },
 "nbformat": 4,
 "nbformat_minor": 5
}
