{
 "cells": [
  {
   "cell_type": "markdown",
   "id": "58e44f30-bbf4-48e5-aafa-f948bc9fbd54",
   "metadata": {},
   "source": [
    "# Good practices:\n",
    "\n",
    "* PEP8 - Style Guide for Python Code\n",
    "** Lines should be limited to 79 characters\n",
    "** Use 4 consecutive spaces to indicate indentation\n",
    "** Comments  \n",
    "  Block comments\n",
    "  Inline comments\n",
    "  Document strings  \n",
    "  \n"
   ]
  },
  {
   "cell_type": "code",
   "execution_count": null,
   "id": "ef4289d0-357f-46a5-b464-ed8641ce4cbc",
   "metadata": {},
   "outputs": [],
   "source": [
    "# Example\n",
    "# Display\n",
    "message = 'Welcome to EduProLearningHub'\n",
    "if message:\n",
    "    print(message)  # display message if not empty"
   ]
  },
  {
   "cell_type": "code",
   "execution_count": null,
   "id": "6cd39408-9e73-4ad5-b44c-a1a2e7e1785e",
   "metadata": {},
   "outputs": [],
   "source": [
    "# Simple method\n",
    "def display(message):\n",
    "    '''\n",
    "    Display the given message\n",
    "    \n",
    "    :param message: input message to display\n",
    "    :return: None\n",
    "    '''\n",
    "    if message:\n",
    "        print(message)"
   ]
  },
  {
   "cell_type": "code",
   "execution_count": 3,
   "id": "ae8f0b27-fe67-478b-81e1-119d46379db2",
   "metadata": {},
   "outputs": [
    {
     "name": "stdout",
     "output_type": "stream",
     "text": [
      "Unlock the potential learning\n"
     ]
    }
   ],
   "source": [
    "display('Unlock the potential learning')"
   ]
  },
  {
   "cell_type": "markdown",
   "id": "29eec1e6-dd66-4ee4-8058-f5e9cfebbb97",
   "metadata": {},
   "source": [
    "# Whitespaces in expressions and statements\n",
    "* Surround the following binary operators with a single space on either side:\n",
    "\n",
    "  Assignment operators (=, +=, -=, and so forth)\n",
    "  \r\n",
    "Comparisons (==, !=, >, <. >=, <=) and (is, is not, in, not i\n",
    "  \r\n",
    "\r\n",
    "Booleans (and, not,\n",
    "\n",
    "Note: When = is used to assign a default value to a function argument, do not surround it with spaces or)"
   ]
  },
  {
   "cell_type": "code",
   "execution_count": null,
   "id": "230bdf4f-99f0-4d81-abb6-c19a9dcbf493",
   "metadata": {},
   "outputs": [],
   "source": [
    "# Ugly\n",
    "y = x ** 2 + 5\n",
    "z = (x + y) * (x - y)\n",
    "\n",
    "# Good\n",
    "y = x**2 + 5\n",
    "z = (x+y) * (x-y)\n",
    "\n",
    "# Ugly\n",
    "if x > 5 and x % 2 == 0:\n",
    "    print('x is larger than 5 and divisible by 2!')\n",
    "\n",
    "# Good\n",
    "if x>5 and x%2==0:\n",
    "    print('x is larger than 5 and divisible by 2!')\n",
    "\n",
    "# Simple method\n",
    "def display(message='default message'):  # display(message = 'default message'):\n",
    "    '''\n",
    "    Display the given message\n",
    "    \n",
    "    :param message: input message to display\n",
    "    :return: None\n",
    "    '''\n",
    "    if message:\n",
    "        print(message)"
   ]
  },
  {
   "cell_type": "markdown",
   "id": "c3a57e58-3038-408f-abe6-fb7ed5915e7c",
   "metadata": {},
   "source": [
    "# When to avoid whitespaces:\n",
    "* The most important place to avoid adding whitespace is at the end of a line. This is known as *trailing whitespace* \n",
    "* Immediately inside parentheses, brackets, or braces\n",
    "* Before a comma, semicolon, or colon\n",
    "* Before the open parenthesis that starts the argument list of a function call"
   ]
  },
  {
   "cell_type": "code",
   "execution_count": null,
   "id": "030e3fd9-c811-4250-90fe-02001f2728e1",
   "metadata": {},
   "outputs": [],
   "source": []
  }
 ],
 "metadata": {
  "kernelspec": {
   "display_name": "Python 3 (ipykernel)",
   "language": "python",
   "name": "python3"
  },
  "language_info": {
   "codemirror_mode": {
    "name": "ipython",
    "version": 3
   },
   "file_extension": ".py",
   "mimetype": "text/x-python",
   "name": "python",
   "nbconvert_exporter": "python",
   "pygments_lexer": "ipython3",
   "version": "3.12.0"
  }
 },
 "nbformat": 4,
 "nbformat_minor": 5
}
